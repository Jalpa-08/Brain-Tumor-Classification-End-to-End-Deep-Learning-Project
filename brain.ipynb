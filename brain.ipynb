{
 "cells": [
  {
   "cell_type": "code",
   "execution_count": 1,
   "id": "c4f7938a-c65a-4f9b-b6d3-10245bb9a923",
   "metadata": {},
   "outputs": [],
   "source": [
    "# !pip install numpy\n",
    "# !pip install scipy pandas seaborn matplotlib\n",
    "import numpy as np\n",
    "import scipy as stats\n",
    "import pandas as pd\n",
    "import seaborn as sns\n",
    "# !pip install statsmodels\n",
    "\n",
    "import matplotlib.pyplot as plt"
   ]
  },
  {
   "cell_type": "code",
   "execution_count": 2,
   "id": "bd884ff8-9ff1-4b6c-9614-2df5cf979af9",
   "metadata": {},
   "outputs": [],
   "source": [
    "\n",
    "import PIL "
   ]
  },
  {
   "cell_type": "code",
   "execution_count": 3,
   "id": "41110522-1e48-47e0-b0ba-e7e88827212a",
   "metadata": {},
   "outputs": [],
   "source": [
    "# # !pip install opencv-python \n",
    "# # !pip install scikit-learn \n",
    "# # !pip install tensorflow\n",
    "# import os\n",
    "# import shutil\n",
    "# import itertools\n",
    "# import pathlib\n",
    "# from PIL import Image\n",
    "# #import Data handling\n",
    "\n",
    "# import numpy as np\n",
    "# import pandas as pd\n",
    "# import matplotlib.pyplot as plt\n",
    "# import seaborn as sns\n",
    "# sns.set_style('whitegrid')\n",
    "# from sklearn.metrics import confusion_matrix , classification_report, ConfusionMatrixDisplay\n",
    "# from sklearn.model_selection import train_test_split\n",
    "# #import Deep learning tools\n",
    "# import tensorflow as tf\n",
    "# from tensorflow import keras\n",
    "# from tensorflow.keras.preprocessing.image import ImageDataGenerator\n",
    "# from tensorflow.keras.models import Sequential\n",
    "# from tensorflow.keras.layers import Conv2D , MaxPooling2D , Dense , BatchNormalization , Dropout,Flatten , Activation\n",
    "# from tensorflow.keras.optimizers import Adam , Adamax\n",
    "# from tensorflow.keras import regularizers\n",
    "# import warnings\n",
    "# warnings.filterwarnings('ignore')"
   ]
  },
  {
   "cell_type": "code",
   "execution_count": 4,
   "id": "f241b7b0-7196-4abe-9694-5478c7012fba",
   "metadata": {},
   "outputs": [],
   "source": [
    "#test_path=\"C:/Users/vidit/OneDrive/Desktop/new/test_set\"\n",
    "#train_path=\"C:/Users/vidit/OneDrive/Desktop/new/training_set\""
   ]
  },
  {
   "cell_type": "code",
   "execution_count": 5,
   "id": "909991cc-a3a0-4f99-aba3-a33df801c512",
   "metadata": {},
   "outputs": [
    {
     "name": "stdout",
     "output_type": "stream",
     "text": [
      "Model: \"sequential\"\n",
      "_________________________________________________________________\n",
      " Layer (type)                Output Shape              Param #   \n",
      "=================================================================\n",
      " conv2d (Conv2D)             (None, 62, 62, 32)        896       \n",
      "                                                                 \n",
      " max_pooling2d (MaxPooling2D  (None, 31, 31, 32)       0         \n",
      " )                                                               \n",
      "                                                                 \n",
      " conv2d_1 (Conv2D)           (None, 29, 29, 64)        18496     \n",
      "                                                                 \n",
      " max_pooling2d_1 (MaxPooling  (None, 14, 14, 64)       0         \n",
      " 2D)                                                             \n",
      "                                                                 \n",
      " conv2d_2 (Conv2D)           (None, 12, 12, 128)       73856     \n",
      "                                                                 \n",
      " max_pooling2d_2 (MaxPooling  (None, 6, 6, 128)        0         \n",
      " 2D)                                                             \n",
      "                                                                 \n",
      " dropout (Dropout)           (None, 6, 6, 128)         0         \n",
      "                                                                 \n",
      " flatten (Flatten)           (None, 4608)              0         \n",
      "                                                                 \n",
      " dense (Dense)               (None, 64)                294976    \n",
      "                                                                 \n",
      " dropout_1 (Dropout)         (None, 64)                0         \n",
      "                                                                 \n",
      " dense_1 (Dense)             (None, 128)               8320      \n",
      "                                                                 \n",
      " dropout_2 (Dropout)         (None, 128)               0         \n",
      "                                                                 \n",
      " dense_2 (Dense)             (None, 4)                 516       \n",
      "                                                                 \n",
      "=================================================================\n",
      "Total params: 397,060\n",
      "Trainable params: 397,060\n",
      "Non-trainable params: 0\n",
      "_________________________________________________________________\n"
     ]
    }
   ],
   "source": [
    "import tensorflow as tf\n",
    "from tensorflow.keras.models import Sequential\n",
    "from tensorflow.keras.layers import Conv2D, MaxPooling2D, Flatten, Dense, Dropout\n",
    "\n",
    "# Define the CNN model\n",
    "model = Sequential()\n",
    "\n",
    "# Convolutional layers\n",
    "model.add(Conv2D(32, (3, 3), input_shape=(64, 64, 3), activation='relu'))\n",
    "model.add(MaxPooling2D(pool_size=(2, 2)))\n",
    "\n",
    "model.add(Conv2D(64, (3, 3), activation='relu'))\n",
    "model.add(MaxPooling2D(pool_size=(2, 2)))\n",
    "\n",
    "model.add(Conv2D(128, (3, 3), activation='relu'))\n",
    "model.add(MaxPooling2D(pool_size=(2, 2)))\n",
    "\n",
    "# Regularization - Dropout layers\n",
    "model.add(Dropout(0.2))\n",
    "model.add(Flatten())\n",
    "\n",
    "# Dense layers for classification\n",
    "model.add(Dense(64, activation='relu'))\n",
    "model.add(Dropout(0.2))\n",
    "\n",
    "model.add(Dense(128, activation='relu'))\n",
    "model.add(Dropout(0.3))\n",
    "\n",
    "# Output layer\n",
    "model.add(Dense(4, activation='softmax'))\n",
    "\n",
    "# Compile the model\n",
    "model.compile(optimizer='adam', loss='categorical_crossentropy', metrics=['accuracy'])\n",
    "\n",
    "# Display model summary\n",
    "model.summary()\n"
   ]
  },
  {
   "cell_type": "code",
   "execution_count": 6,
   "id": "c49a828f-7cd7-4769-8b50-8858f36c91bf",
   "metadata": {},
   "outputs": [],
   "source": [
    "\n",
    "from tensorflow.keras.preprocessing.image import ImageDataGenerator\n",
    "train_datagen = ImageDataGenerator(\n",
    "    rescale=1.0/255.0,  # normalize pixel values to [0,1]\n",
    "    shear_range=0.2,\n",
    "    zoom_range=0.2,\n",
    "    horizontal_flip=True\n",
    ")\n",
    "test_datagen=ImageDataGenerator(rescale=1./255)"
   ]
  },
  {
   "cell_type": "code",
   "execution_count": 7,
   "id": "7944e3b8-9e47-482b-a554-4d4bf6662ca8",
   "metadata": {},
   "outputs": [],
   "source": [
    "import PIL.Image"
   ]
  },
  {
   "cell_type": "code",
   "execution_count": 8,
   "id": "8f37bfbd-4eff-40a5-923c-04f69ebecaf1",
   "metadata": {},
   "outputs": [],
   "source": [
    "#CondaHTTPError: HTTP 000 CONNECTION FAILED for url <https://repo.anaconda.com/pkgs/main/win-64/current_repodata.json><br>Elapsed: -<br><br>An HTTP error occurred when trying to retrieve this URL.<br>HTTP errors are often intermittent, and a simple retry will get you on your way.<br><br>If your current network has https://repo.anaconda.com blocked, please file<br>a support request with your network engineering team.<br>"
   ]
  },
  {
   "cell_type": "code",
   "execution_count": 9,
   "id": "bed476bb-9e7c-46ef-b964-b4098c092e9a",
   "metadata": {},
   "outputs": [],
   "source": [
    "# import os\n",
    "# import numpy as np\n",
    "# from tensorflow.keras.preprocessing.image import ImageDataGenerator\n",
    "# from PIL import Image\n",
    "\n",
    "# # # Directory containing your original images\n",
    "# #test_path=\"C:/Users/Lenono/OneDrive/Desktop/new/test_set_new1\"\n",
    "# train_path=\"C:/Users/Lenono/OneDrive/Desktop/new/train_set_new1\"\n",
    "# # # Parameters for data augmentation\n",
    "#source_train = \"C:/Users/vidit/OneDrive/Desktop/new/training_set/training_set\"\n",
    "# Define the path to the directory where the augmented images will be saved\n",
    "#output_train = \"C:/Users/vidit/OneDrive/Desktop/new/training_set_new\"\n",
    "# source_test =\"C:/Users/Lenono/OneDrive/Desktop/new/archive/Testing/glioma\"\n",
    "# # Define the path to the directory where the augmented images will be saved\n",
    "# output_test = \"C:/Users/Lenono/OneDrive/Desktop/new/archive_new/glioma\"\n",
    "\n",
    "# #Create the output directory if it does not exist\n",
    "# if not os.path.exists(output_test):\n",
    "#        os.makedirs(output_test)\n",
    "    \n",
    "#     #Define the rotation angles\n",
    "#         rotation_angles = [45, 90, 180, 360]\n",
    "    \n",
    "#     #Loop through each file in the source directory\n",
    "#     for filename in os.listdir(source_test):\n",
    "#         if filename.endswith(('.png', '.jpg', '.jpeg')):  # Check for common image file extensions\n",
    "#             # Construct the full file path\n",
    "#             file_path = os.path.join(source_test, filename)\n",
    "#             # Open the image\n",
    "#             image = Image.open(file_path)\n",
    "            \n",
    "#             # Rotate the image by each angle and save the new image\n",
    "#          for angle in rotation_angles:\n",
    "#                 # Rotate the image\n",
    "#                 rotated_image = image.rotate(angle)\n",
    "#                 # Construct the new filename\n",
    "#                 new_filename = f'{os.path.splitext(filename)[0]}rotated{angle}{os.path.splitext(filename)[1]}'\n",
    "#                 # Construct the full path to the new file\n",
    "    #             new_file_path = os.path.join(output_test, new_filename)\n",
    "    #             # Save the rotated image\n",
    "    #             rotated_image.save(new_file_path)\n",
    "    \n",
    "    # print(\"Image augmentation completed.\")\n",
    "# import os\n",
    "# from PIL import Image\n",
    "\n",
    "# # Define the source directory containing the original images\n",
    "# source_test = \"C:/Users/Lenono/OneDrive/Desktop/new/archive/Training/pituitary\"\n",
    "\n",
    "# # Define the path to the directory where the augmented images will be saved\n",
    "# output_test = \"C:/Users/Lenono/OneDrive/Desktop/new/archive_new/train/pituitary\"\n",
    "\n",
    "# # Create the output directory if it does not exist\n",
    "# if not os.path.exists(output_test):\n",
    "#     os.makedirs(output_test)\n",
    "\n",
    "# # Define the rotation angles\n",
    "# rotation_angles = [45, 90, 180, 360]\n",
    "\n",
    "# # Loop through each file in the source directory\n",
    "# for filename in os.listdir(source_test):\n",
    "#     if filename.endswith(('.png', '.jpg', '.jpeg')):  # Check for common image file extensions\n",
    "#         # Construct the full file path\n",
    "#         file_path = os.path.join(source_test, filename)\n",
    "#         # Open the image\n",
    "#         image = Image.open(file_path)\n",
    "        \n",
    "#         # Rotate the image by each angle and save the new image\n",
    "#         for angle in rotation_angles:\n",
    "#             # Rotate the image\n",
    "#             rotated_image = image.rotate(angle)\n",
    "#             # Construct the new filename\n",
    "#             new_filename = f'{os.path.splitext(filename)[0]}_rotated{angle}{os.path.splitext(filename)[1]}'\n",
    "#             # Construct the full path to the new file\n",
    "#             new_file_path = os.path.join(output_test, new_filename)\n",
    "#             # Save the rotated image\n",
    "#             rotated_image.save(new_file_path)\n",
    "\n",
    "# print(\"Image augmentation completed.\")\n",
    "\n",
    "# # import os\n",
    "# # from PIL import Image\n",
    "\n",
    "# # # Define the source and output directories\n",
    "# # source_test = \"C:/Users/Lenono/OneDrive/Desktop/new/test_set/test_set/dogs\"\n",
    "# # output_test = \"C:/Users/Lenono/OneDrive/Desktop/new/test_set_newd\"\n",
    "\n",
    "# # # Create the output directory if it does not exist\n",
    "# # if not os.path.exists(output_test):\n",
    "# #     os.makedirs(output_test)\n",
    "\n",
    "# # # Define the rotation angles\n",
    "# # rotation_angles = [45, 90, 180, 360]\n",
    "\n",
    "# # # Loop through each file in the source directory\n",
    "# # for filename in os.listdir(source_test):\n",
    "# #     if filename.endswith(('.png', '.jpg', '.jpeg')):  # Check for common image file extensions\n",
    "# #         # Construct the full file paths\n",
    "# #         file_path = os.path.join(source_test, filename)\n",
    "# #         # Open the image\n",
    "# #         image = Image.open(file_path)\n",
    "        \n",
    "# #         # Rotate the image by each angle and save the new image\n",
    "# #         for angle in rotation_angles:\n",
    "# #             # Rotate the image\n",
    "# #             rotated_image = image.rotate(angle)\n",
    "# #             # Construct the new filename\n",
    "# #             new_filename = f'{os.path.splitext(filename)[0]}_rotated{angle}{os.path.splitext(filename)[1]}'\n",
    "# #             # Construct the full path to the new file\n",
    "# #             new_file_path = os.path.join(output_test, new_filename)\n",
    "# #             # Check if the file already exists\n",
    "# #             if not os.path.exists(new_file_path):\n",
    "# #                 # Save the rotated image\n",
    "# #                 rotated_image.save(new_file_path)\n",
    "\n",
    "# # print(\"Image augmentation completed.\")\n"
   ]
  },
  {
   "cell_type": "code",
   "execution_count": 10,
   "id": "6f447e64-384f-4cad-a800-13e5dfdbb41f",
   "metadata": {},
   "outputs": [
    {
     "name": "stdout",
     "output_type": "stream",
     "text": [
      "Found 20512 images belonging to 4 classes.\n"
     ]
    }
   ],
   "source": [
    "training_set=train_datagen.flow_from_directory(\"C:/Users/Lenono/OneDrive/Desktop/new/archive_new/train\",\n",
    "                                              target_size=(64,64),\n",
    "                                              batch_size=32,\n",
    "                                              class_mode='categorical')\n",
    "                                                            "
   ]
  },
  {
   "cell_type": "code",
   "execution_count": 11,
   "id": "0c1d00da-0c88-4a6b-9e83-f72107ade613",
   "metadata": {},
   "outputs": [
    {
     "name": "stdout",
     "output_type": "stream",
     "text": [
      "Found 5244 images belonging to 4 classes.\n"
     ]
    }
   ],
   "source": [
    "test_set=test_datagen.flow_from_directory(\"C:/Users/Lenono/OneDrive/Desktop/new/archive_new/test\",\n",
    "                                              target_size=(64,64),\n",
    "                                              batch_size=32,\n",
    "                                               class_mode='categorical')"
   ]
  },
  {
   "cell_type": "code",
   "execution_count": 12,
   "id": "a8b7d97d-031e-40ac-81c6-b51ef55b953f",
   "metadata": {},
   "outputs": [
    {
     "name": "stdout",
     "output_type": "stream",
     "text": [
      "Epoch 1/20\n",
      "641/641 [==============================] - 170s 261ms/step - loss: 0.9206 - accuracy: 0.6158 - val_loss: 1.4660 - val_accuracy: 0.4897\n",
      "Epoch 2/20\n",
      "641/641 [==============================] - 180s 281ms/step - loss: 0.6561 - accuracy: 0.7419 - val_loss: 1.7657 - val_accuracy: 0.4071\n",
      "Epoch 3/20\n",
      "641/641 [==============================] - 176s 275ms/step - loss: 0.5316 - accuracy: 0.7931 - val_loss: 1.1008 - val_accuracy: 0.6156\n",
      "Epoch 4/20\n",
      "641/641 [==============================] - 176s 275ms/step - loss: 0.4293 - accuracy: 0.8383 - val_loss: 0.6800 - val_accuracy: 0.7561\n",
      "Epoch 5/20\n",
      "641/641 [==============================] - 213s 332ms/step - loss: 0.3700 - accuracy: 0.8622 - val_loss: 0.4791 - val_accuracy: 0.8181\n",
      "Epoch 6/20\n",
      "641/641 [==============================] - 192s 299ms/step - loss: 0.3139 - accuracy: 0.8852 - val_loss: 0.5657 - val_accuracy: 0.7935\n",
      "Epoch 7/20\n",
      "641/641 [==============================] - 180s 280ms/step - loss: 0.2717 - accuracy: 0.9014 - val_loss: 0.5125 - val_accuracy: 0.8124\n",
      "Epoch 8/20\n",
      "641/641 [==============================] - 178s 277ms/step - loss: 0.2521 - accuracy: 0.9082 - val_loss: 0.3917 - val_accuracy: 0.8560\n",
      "Epoch 9/20\n",
      "641/641 [==============================] - 178s 277ms/step - loss: 0.2390 - accuracy: 0.9159 - val_loss: 0.4012 - val_accuracy: 0.8499\n",
      "Epoch 10/20\n",
      "641/641 [==============================] - 176s 275ms/step - loss: 0.2182 - accuracy: 0.9209 - val_loss: 0.2776 - val_accuracy: 0.8949\n",
      "Epoch 11/20\n",
      "641/641 [==============================] - 180s 280ms/step - loss: 0.2067 - accuracy: 0.9252 - val_loss: 0.2307 - val_accuracy: 0.9109\n",
      "Epoch 12/20\n",
      "641/641 [==============================] - 175s 273ms/step - loss: 0.1901 - accuracy: 0.9302 - val_loss: 0.5028 - val_accuracy: 0.8431\n",
      "Epoch 13/20\n",
      "641/641 [==============================] - 175s 273ms/step - loss: 0.1921 - accuracy: 0.9316 - val_loss: 0.2904 - val_accuracy: 0.8966\n",
      "Epoch 14/20\n",
      "641/641 [==============================] - 177s 276ms/step - loss: 0.1766 - accuracy: 0.9354 - val_loss: 0.3922 - val_accuracy: 0.8627\n",
      "Epoch 15/20\n",
      "641/641 [==============================] - 180s 281ms/step - loss: 0.1717 - accuracy: 0.9379 - val_loss: 0.2756 - val_accuracy: 0.9018\n",
      "Epoch 16/20\n",
      "641/641 [==============================] - 187s 292ms/step - loss: 0.1700 - accuracy: 0.9397 - val_loss: 0.1694 - val_accuracy: 0.9399\n",
      "Epoch 17/20\n",
      "641/641 [==============================] - 209s 326ms/step - loss: 0.1580 - accuracy: 0.9427 - val_loss: 0.3848 - val_accuracy: 0.8827\n",
      "Epoch 18/20\n",
      "641/641 [==============================] - 202s 315ms/step - loss: 0.1495 - accuracy: 0.9466 - val_loss: 0.2309 - val_accuracy: 0.9216\n",
      "Epoch 19/20\n",
      "641/641 [==============================] - 205s 320ms/step - loss: 0.1436 - accuracy: 0.9479 - val_loss: 0.2099 - val_accuracy: 0.9291\n",
      "Epoch 20/20\n",
      "641/641 [==============================] - 202s 315ms/step - loss: 0.1435 - accuracy: 0.9490 - val_loss: 0.5447 - val_accuracy: 0.8419\n"
     ]
    }
   ],
   "source": [
    "# Example training code\n",
    "history = model.fit(training_set, validation_data=test_set, batch_size=32, epochs=20, verbose=1)\n"
   ]
  },
  {
   "cell_type": "code",
   "execution_count": 13,
   "id": "33e52e05-b93e-4114-9675-338e55730bd7",
   "metadata": {},
   "outputs": [],
   "source": [
    "#!nvidia-smi"
   ]
  },
  {
   "cell_type": "code",
   "execution_count": 14,
   "id": "4872a9e9-6087-4eba-a6f5-f5c4fbd67c7c",
   "metadata": {},
   "outputs": [],
   "source": [
    "#history=model.fit(training_set,validation_data=test_set,batch_size=32,epochs=2,verbose=1)"
   ]
  },
  {
   "cell_type": "code",
   "execution_count": 15,
   "id": "01c16780-baa3-4612-887a-dcc096e9f06d",
   "metadata": {},
   "outputs": [],
   "source": [
    "# import tensorflow as tf\n",
    "\n",
    "# # Assuming 'model' is a properly defined and compiled tf.keras.Model instance\n",
    "# try:\n",
    "#     history = model.fit(training_set, validation_data=test_set, batch_size=32, epochs=2, verbose=1)\n",
    "# except Exception as e:\n",
    "#     print(\"Error:\", e)\n",
    "\n"
   ]
  },
  {
   "cell_type": "code",
   "execution_count": 32,
   "id": "9472db3f-29b3-46d2-8e0e-c76a5608612f",
   "metadata": {},
   "outputs": [
    {
     "data": {
      "image/png": "[encoded data removed]",
      "text/plain": [
       "<Figure size 1800x600 with 2 Axes>"
      ]
     },
     "metadata": {},
     "output_type": "display_data"
    }
   ],
   "source": [
    "import matplotlib.pyplot as plt\n",
    "acc = history.history['accuracy']\n",
    "val_acc = history.history['val_accuracy']\n",
    "\n",
    "loss = history.history['loss']\n",
    "val_loss = history.history['val_loss']\n",
    "\n",
    "epochs_range = range(len(history.history['accuracy']))\n",
    "\n",
    "plt.figure(figsize=(18, 6))\n",
    "plt.subplot(1, 2, 1)\n",
    "plt.plot(range(len(history.history['accuracy'])), acc, label='Training Accuracy') \n",
    "plt.plot(epochs_range, val_acc, label='Validation Accuracy')\n",
    "plt.legend(loc='upper right') \n",
    "plt.title('Training and Validation Accuracy')\n",
    "\n",
    "plt.subplot(1, 2, 2)\n",
    "plt.plot(epochs_range, loss, label='Training Loss') \n",
    "plt.plot(epochs_range, val_loss, label='Validation Loss')\n",
    "plt.legend(loc='upper right')\n",
    "plt.title('Training and Validation Loss')\n",
    "plt.show()"
   ]
  },
  {
   "cell_type": "code",
   "execution_count": 17,
   "id": "0c1e4b9a-13a5-4f9c-920d-98892f681222",
   "metadata": {},
   "outputs": [],
   "source": [
    "#import pickle"
   ]
  },
  {
   "cell_type": "code",
   "execution_count": 18,
   "id": "fef5f8ad-b033-453f-90b7-9300448bf09d",
   "metadata": {},
   "outputs": [],
   "source": [
    "# with open('model.pkl','wb') as file:\n",
    "#      pickle.dump(model,file)"
   ]
  },
  {
   "cell_type": "code",
   "execution_count": 33,
   "id": "79a51518-c1b1-4fee-b134-d2b1c39029b9",
   "metadata": {},
   "outputs": [],
   "source": [
    " model.save('model_new_brain.h5')"
   ]
  },
  {
   "cell_type": "code",
   "execution_count": 20,
   "id": "82083498-2537-400f-bc00-c2d6c71e4412",
   "metadata": {},
   "outputs": [],
   "source": [
    "# import cv2"
   ]
  },
  {
   "cell_type": "code",
   "execution_count": 21,
   "id": "3ac7abc7-6c5b-4c3e-be7f-9702074de0df",
   "metadata": {},
   "outputs": [],
   "source": [
    "#test_img=cv2.imread('cat.jpg')"
   ]
  },
  {
   "cell_type": "code",
   "execution_count": 22,
   "id": "4bd9d247-a58c-479a-b90b-1f8c957c5d2c",
   "metadata": {},
   "outputs": [],
   "source": [
    "#plt.imshow(test_img)"
   ]
  },
  {
   "cell_type": "code",
   "execution_count": 23,
   "id": "9882b65a-fa77-4b63-a9d9-0bf6e0d2e9fc",
   "metadata": {},
   "outputs": [],
   "source": [
    "#test_img.shape"
   ]
  },
  {
   "cell_type": "code",
   "execution_count": 24,
   "id": "fdbbf50f-72ff-44ca-8c8a-352557aafc64",
   "metadata": {},
   "outputs": [],
   "source": [
    "#test_img=cv2.resize(test_img,(64,64))"
   ]
  },
  {
   "cell_type": "code",
   "execution_count": 25,
   "id": "0a2c73e4-3bd2-42a9-a4a5-025b502bd7c6",
   "metadata": {},
   "outputs": [],
   "source": [
    "#test_input=test_img.reshape((1,64,64,3))"
   ]
  },
  {
   "cell_type": "code",
   "execution_count": 26,
   "id": "8325209f-46b6-42f7-875b-d8d1be2e43c3",
   "metadata": {},
   "outputs": [],
   "source": [
    "#test_img.shape"
   ]
  },
  {
   "cell_type": "code",
   "execution_count": 27,
   "id": "cba0b176-6e0a-461b-92a8-fb3b3eadc6eb",
   "metadata": {},
   "outputs": [],
   "source": [
    "#test_img.save('Cat.jpg')"
   ]
  },
  {
   "cell_type": "code",
   "execution_count": 28,
   "id": "a9c749c3-a88f-4a2a-aa94-903f14921625",
   "metadata": {},
   "outputs": [],
   "source": [
    "# from PIL import Image\n",
    "\n",
    "# # Open an image file\n",
    "# img = Image.open(\"Cat.jpg\")\n",
    "\n",
    "# # Resize the image to the desired shape\n",
    "# img_resized = img.resize((64, 64))\n",
    "\n",
    "# # Convert the image to a numpy array and add batch dimension\n",
    "# input_data = np.array(img_resized)[np.newaxis, :]\n",
    "\n",
    "# # Now, you can feed this input_data to your model for prediction\n"
   ]
  },
  {
   "cell_type": "code",
   "execution_count": 29,
   "id": "f5945a1b-b16f-4627-a086-6eb1e43aa9dc",
   "metadata": {},
   "outputs": [],
   "source": [
    "# print(input_data.shape)\n"
   ]
  },
  {
   "cell_type": "code",
   "execution_count": 30,
   "id": "fb75df2a-192b-408e-935f-dc72d7048f90",
   "metadata": {},
   "outputs": [],
   "source": [
    "# import numpy as np\n",
    "\n",
    "# # Assuming you have the input_data numpy array already created\n",
    "\n",
    "# # Save the input_data array to a file\n",
    "# np.save(\"input_data.npy\", input_data)\n"
   ]
  },
  {
   "cell_type": "code",
   "execution_count": 31,
   "id": "fc19225a-ed40-455e-beff-eabaafdb1bea",
   "metadata": {},
   "outputs": [],
   "source": [
    "# img.save('Cat.jpeg')"
   ]
  },
  {
   "cell_type": "code",
   "execution_count": null,
   "id": "24bdd71f-abde-408f-bde1-420989cc67d2",
   "metadata": {},
   "outputs": [],
   "source": []
  }
 ],
 "metadata": {
  "kernelspec": {
   "display_name": "Python 3 (ipykernel)",
   "language": "python",
   "name": "python3"
  },
  "language_info": {
   "codemirror_mode": {
    "name": "ipython",
    "version": 3
   },
   "file_extension": ".py",
   "mimetype": "text/x-python",
   "name": "python",
   "nbconvert_exporter": "python",
   "pygments_lexer": "ipython3",
   "version": "3.9.19"
  }
 },
 "nbformat": 4,
 "nbformat_minor": 5
}
